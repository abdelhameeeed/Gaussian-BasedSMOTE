{
  "nbformat": 4,
  "nbformat_minor": 0,
  "metadata": {
    "colab": {
      "name": "Upwork_task.ipynb",
      "provenance": []
    },
    "kernelspec": {
      "name": "python3",
      "display_name": "Python 3"
    },
    "accelerator": "GPU"
  },
  "cells": [
    {
      "cell_type": "code",
      "metadata": {
        "id": "lKSIwufL7z6E",
        "colab_type": "code",
        "colab": {
          "base_uri": "https://localhost:8080/",
          "height": 70
        },
        "outputId": "08e6c90e-6b00-4e8e-8182-dae3539d1694"
      },
      "source": [
        "import numpy as np # linear algebra\n",
        "import pandas as pd # data processing, CSV file I/O (e.g. pd.read_csv)\n",
        "import matplotlib.pyplot as plt\n",
        "import seaborn as sns;sns.set(font_scale=1)\n",
        "from sklearn.decomposition import PCA\n",
        "from sklearn.cluster import KMeans\n",
        "from sklearn.model_selection import train_test_split\n",
        "from sklearn.metrics import recall_score, accuracy_score, precision_score, f1_score, confusion_matrix, roc_curve, auc\n",
        "from sklearn.preprocessing import StandardScaler\n",
        "import math\n",
        "from collections import OrderedDict \n",
        "import os\n",
        "from random import randint\n",
        "from sklearn.tree import DecisionTreeClassifier\n",
        "\n",
        "from sklearn.decomposition import PCA\n",
        "from sklearn.svm import SVC\n",
        "%matplotlib inline"
      ],
      "execution_count": 1,
      "outputs": [
        {
          "output_type": "stream",
          "text": [
            "/usr/local/lib/python3.6/dist-packages/statsmodels/tools/_testing.py:19: FutureWarning: pandas.util.testing is deprecated. Use the functions in the public API at pandas.testing instead.\n",
            "  import pandas.util.testing as tm\n"
          ],
          "name": "stderr"
        }
      ]
    },
    {
      "cell_type": "code",
      "metadata": {
        "id": "u15S79l276wz",
        "colab_type": "code",
        "colab": {
          "base_uri": "https://localhost:8080/",
          "height": 350
        },
        "outputId": "48e7e96d-eb99-42ff-9556-79f8616d95e3"
      },
      "source": [
        "# Reading The Data From Excel Sheet #\n",
        "df = pd.read_excel('/content/UoC_dataset.xlsx')\n",
        "df.head()"
      ],
      "execution_count": 2,
      "outputs": [
        {
          "output_type": "execute_result",
          "data": {
            "text/html": [
              "<div>\n",
              "<style scoped>\n",
              "    .dataframe tbody tr th:only-of-type {\n",
              "        vertical-align: middle;\n",
              "    }\n",
              "\n",
              "    .dataframe tbody tr th {\n",
              "        vertical-align: top;\n",
              "    }\n",
              "\n",
              "    .dataframe thead th {\n",
              "        text-align: right;\n",
              "    }\n",
              "</style>\n",
              "<table border=\"1\" class=\"dataframe\">\n",
              "  <thead>\n",
              "    <tr style=\"text-align: right;\">\n",
              "      <th></th>\n",
              "      <th>State</th>\n",
              "      <th>Account length</th>\n",
              "      <th>Area code</th>\n",
              "      <th>Phone number</th>\n",
              "      <th>International plan</th>\n",
              "      <th>Voice mail plan</th>\n",
              "      <th>Number vmail messages</th>\n",
              "      <th>Total day minutes</th>\n",
              "      <th>Total day calls</th>\n",
              "      <th>Total day charge</th>\n",
              "      <th>Total eve minutes</th>\n",
              "      <th>Total eve calls</th>\n",
              "      <th>Total eve charge</th>\n",
              "      <th>Total night minutes</th>\n",
              "      <th>Total night calls</th>\n",
              "      <th>Total night charge</th>\n",
              "      <th>Total intl minutes</th>\n",
              "      <th>Total intl calls</th>\n",
              "      <th>Total intl charge</th>\n",
              "      <th>Number customer service calls</th>\n",
              "      <th>Churner</th>\n",
              "    </tr>\n",
              "  </thead>\n",
              "  <tbody>\n",
              "    <tr>\n",
              "      <th>0</th>\n",
              "      <td>KS</td>\n",
              "      <td>128</td>\n",
              "      <td>415</td>\n",
              "      <td>382-4657</td>\n",
              "      <td>no</td>\n",
              "      <td>yes</td>\n",
              "      <td>25</td>\n",
              "      <td>265.1</td>\n",
              "      <td>110</td>\n",
              "      <td>45.07</td>\n",
              "      <td>197.4</td>\n",
              "      <td>99</td>\n",
              "      <td>16.78</td>\n",
              "      <td>244.7</td>\n",
              "      <td>91</td>\n",
              "      <td>11.01</td>\n",
              "      <td>10.0</td>\n",
              "      <td>3</td>\n",
              "      <td>2.70</td>\n",
              "      <td>1</td>\n",
              "      <td>False.</td>\n",
              "    </tr>\n",
              "    <tr>\n",
              "      <th>1</th>\n",
              "      <td>OH</td>\n",
              "      <td>107</td>\n",
              "      <td>415</td>\n",
              "      <td>371-7191</td>\n",
              "      <td>no</td>\n",
              "      <td>yes</td>\n",
              "      <td>26</td>\n",
              "      <td>161.6</td>\n",
              "      <td>123</td>\n",
              "      <td>27.47</td>\n",
              "      <td>195.5</td>\n",
              "      <td>103</td>\n",
              "      <td>16.62</td>\n",
              "      <td>254.4</td>\n",
              "      <td>103</td>\n",
              "      <td>11.45</td>\n",
              "      <td>13.7</td>\n",
              "      <td>3</td>\n",
              "      <td>3.70</td>\n",
              "      <td>1</td>\n",
              "      <td>False.</td>\n",
              "    </tr>\n",
              "    <tr>\n",
              "      <th>2</th>\n",
              "      <td>NJ</td>\n",
              "      <td>137</td>\n",
              "      <td>415</td>\n",
              "      <td>358-1921</td>\n",
              "      <td>no</td>\n",
              "      <td>no</td>\n",
              "      <td>0</td>\n",
              "      <td>243.4</td>\n",
              "      <td>114</td>\n",
              "      <td>41.38</td>\n",
              "      <td>121.2</td>\n",
              "      <td>110</td>\n",
              "      <td>10.30</td>\n",
              "      <td>162.6</td>\n",
              "      <td>104</td>\n",
              "      <td>7.32</td>\n",
              "      <td>12.2</td>\n",
              "      <td>5</td>\n",
              "      <td>3.29</td>\n",
              "      <td>0</td>\n",
              "      <td>False.</td>\n",
              "    </tr>\n",
              "    <tr>\n",
              "      <th>3</th>\n",
              "      <td>OH</td>\n",
              "      <td>84</td>\n",
              "      <td>408</td>\n",
              "      <td>375-9999</td>\n",
              "      <td>yes</td>\n",
              "      <td>no</td>\n",
              "      <td>0</td>\n",
              "      <td>299.4</td>\n",
              "      <td>71</td>\n",
              "      <td>50.90</td>\n",
              "      <td>61.9</td>\n",
              "      <td>88</td>\n",
              "      <td>5.26</td>\n",
              "      <td>196.9</td>\n",
              "      <td>89</td>\n",
              "      <td>8.86</td>\n",
              "      <td>6.6</td>\n",
              "      <td>7</td>\n",
              "      <td>1.78</td>\n",
              "      <td>2</td>\n",
              "      <td>False.</td>\n",
              "    </tr>\n",
              "    <tr>\n",
              "      <th>4</th>\n",
              "      <td>OK</td>\n",
              "      <td>75</td>\n",
              "      <td>415</td>\n",
              "      <td>330-6626</td>\n",
              "      <td>yes</td>\n",
              "      <td>no</td>\n",
              "      <td>0</td>\n",
              "      <td>166.7</td>\n",
              "      <td>113</td>\n",
              "      <td>28.34</td>\n",
              "      <td>148.3</td>\n",
              "      <td>122</td>\n",
              "      <td>12.61</td>\n",
              "      <td>186.9</td>\n",
              "      <td>121</td>\n",
              "      <td>8.41</td>\n",
              "      <td>10.1</td>\n",
              "      <td>3</td>\n",
              "      <td>2.73</td>\n",
              "      <td>3</td>\n",
              "      <td>False.</td>\n",
              "    </tr>\n",
              "  </tbody>\n",
              "</table>\n",
              "</div>"
            ],
            "text/plain": [
              "  State  Account length  ...  Number customer service calls  Churner\n",
              "0    KS             128  ...                              1   False.\n",
              "1    OH             107  ...                              1   False.\n",
              "2    NJ             137  ...                              0   False.\n",
              "3    OH              84  ...                              2   False.\n",
              "4    OK              75  ...                              3   False.\n",
              "\n",
              "[5 rows x 21 columns]"
            ]
          },
          "metadata": {
            "tags": []
          },
          "execution_count": 2
        }
      ]
    },
    {
      "cell_type": "code",
      "metadata": {
        "id": "uFvfHkwU8Lwl",
        "colab_type": "code",
        "colab": {
          "base_uri": "https://localhost:8080/",
          "height": 50
        },
        "outputId": "086e4906-172d-42c0-d23b-b7187c7858be"
      },
      "source": [
        "def data_preprocess(df):\n",
        "    drop_columns = [\"State\", \"Phone number\"]\n",
        "    df = df.drop(drop_columns, axis=1)\n",
        "    int_plan_yes = df[\"International plan\"] == ' yes'\n",
        "    int_plan_no = df[\"International plan\"] == ' no'\n",
        "    df[\"International plan\"].values[int_plan_yes] = 1\n",
        "    df[\"International plan\"].values[int_plan_no] = 0\n",
        "    voice_plan_no = df[\"Voice mail plan\"] == ' no'\n",
        "    voice_plan_yes = df[\"Voice mail plan\"] == ' yes'\n",
        "    df[\"Voice mail plan\"].values[voice_plan_yes] = 1\n",
        "    df[\"Voice mail plan\"].values[voice_plan_no] = 0\n",
        "    churner_yes = df['Churner'] == ' True.'\n",
        "    churner_no = df['Churner'] == ' False.'\n",
        "    df[\"Churner\"].values[churner_yes] = 1\n",
        "    df[\"Churner\"].values[churner_no] = 0\n",
        "    df['Churner'] = df['Churner'].apply(pd.to_numeric)\n",
        "    return (df)\n",
        "\n",
        "print(\"Number of churner yes: {}\".format(df[df['Churner']==\" True.\"].shape[0]))\n",
        "print(\"Number of churner no: {}\".format(df[df['Churner']==\" False.\"].shape[0]))\n",
        "minority=len(df[df['Churner'] == ' True.'])\n",
        "majority=len(df[df['Churner'] == ' False.'])"
      ],
      "execution_count": 3,
      "outputs": [
        {
          "output_type": "stream",
          "text": [
            "Number of churner yes: 483\n",
            "Number of churner no: 2850\n"
          ],
          "name": "stdout"
        }
      ]
    },
    {
      "cell_type": "code",
      "metadata": {
        "id": "i7gQxNYg_0p9",
        "colab_type": "code",
        "colab": {}
      },
      "source": [
        "df = data_preprocess(df)\n",
        "scale = StandardScaler()"
      ],
      "execution_count": 4,
      "outputs": []
    },
    {
      "cell_type": "code",
      "metadata": {
        "id": "tg0uxZF1aUWp",
        "colab_type": "code",
        "colab": {
          "base_uri": "https://localhost:8080/",
          "height": 266
        },
        "outputId": "db3800c5-399f-48c2-89bf-c40e33e605d0"
      },
      "source": [
        "df.head()"
      ],
      "execution_count": 5,
      "outputs": [
        {
          "output_type": "execute_result",
          "data": {
            "text/html": [
              "<div>\n",
              "<style scoped>\n",
              "    .dataframe tbody tr th:only-of-type {\n",
              "        vertical-align: middle;\n",
              "    }\n",
              "\n",
              "    .dataframe tbody tr th {\n",
              "        vertical-align: top;\n",
              "    }\n",
              "\n",
              "    .dataframe thead th {\n",
              "        text-align: right;\n",
              "    }\n",
              "</style>\n",
              "<table border=\"1\" class=\"dataframe\">\n",
              "  <thead>\n",
              "    <tr style=\"text-align: right;\">\n",
              "      <th></th>\n",
              "      <th>Account length</th>\n",
              "      <th>Area code</th>\n",
              "      <th>International plan</th>\n",
              "      <th>Voice mail plan</th>\n",
              "      <th>Number vmail messages</th>\n",
              "      <th>Total day minutes</th>\n",
              "      <th>Total day calls</th>\n",
              "      <th>Total day charge</th>\n",
              "      <th>Total eve minutes</th>\n",
              "      <th>Total eve calls</th>\n",
              "      <th>Total eve charge</th>\n",
              "      <th>Total night minutes</th>\n",
              "      <th>Total night calls</th>\n",
              "      <th>Total night charge</th>\n",
              "      <th>Total intl minutes</th>\n",
              "      <th>Total intl calls</th>\n",
              "      <th>Total intl charge</th>\n",
              "      <th>Number customer service calls</th>\n",
              "      <th>Churner</th>\n",
              "    </tr>\n",
              "  </thead>\n",
              "  <tbody>\n",
              "    <tr>\n",
              "      <th>0</th>\n",
              "      <td>128</td>\n",
              "      <td>415</td>\n",
              "      <td>0</td>\n",
              "      <td>1</td>\n",
              "      <td>25</td>\n",
              "      <td>265.1</td>\n",
              "      <td>110</td>\n",
              "      <td>45.07</td>\n",
              "      <td>197.4</td>\n",
              "      <td>99</td>\n",
              "      <td>16.78</td>\n",
              "      <td>244.7</td>\n",
              "      <td>91</td>\n",
              "      <td>11.01</td>\n",
              "      <td>10.0</td>\n",
              "      <td>3</td>\n",
              "      <td>2.70</td>\n",
              "      <td>1</td>\n",
              "      <td>0</td>\n",
              "    </tr>\n",
              "    <tr>\n",
              "      <th>1</th>\n",
              "      <td>107</td>\n",
              "      <td>415</td>\n",
              "      <td>0</td>\n",
              "      <td>1</td>\n",
              "      <td>26</td>\n",
              "      <td>161.6</td>\n",
              "      <td>123</td>\n",
              "      <td>27.47</td>\n",
              "      <td>195.5</td>\n",
              "      <td>103</td>\n",
              "      <td>16.62</td>\n",
              "      <td>254.4</td>\n",
              "      <td>103</td>\n",
              "      <td>11.45</td>\n",
              "      <td>13.7</td>\n",
              "      <td>3</td>\n",
              "      <td>3.70</td>\n",
              "      <td>1</td>\n",
              "      <td>0</td>\n",
              "    </tr>\n",
              "    <tr>\n",
              "      <th>2</th>\n",
              "      <td>137</td>\n",
              "      <td>415</td>\n",
              "      <td>0</td>\n",
              "      <td>0</td>\n",
              "      <td>0</td>\n",
              "      <td>243.4</td>\n",
              "      <td>114</td>\n",
              "      <td>41.38</td>\n",
              "      <td>121.2</td>\n",
              "      <td>110</td>\n",
              "      <td>10.30</td>\n",
              "      <td>162.6</td>\n",
              "      <td>104</td>\n",
              "      <td>7.32</td>\n",
              "      <td>12.2</td>\n",
              "      <td>5</td>\n",
              "      <td>3.29</td>\n",
              "      <td>0</td>\n",
              "      <td>0</td>\n",
              "    </tr>\n",
              "    <tr>\n",
              "      <th>3</th>\n",
              "      <td>84</td>\n",
              "      <td>408</td>\n",
              "      <td>1</td>\n",
              "      <td>0</td>\n",
              "      <td>0</td>\n",
              "      <td>299.4</td>\n",
              "      <td>71</td>\n",
              "      <td>50.90</td>\n",
              "      <td>61.9</td>\n",
              "      <td>88</td>\n",
              "      <td>5.26</td>\n",
              "      <td>196.9</td>\n",
              "      <td>89</td>\n",
              "      <td>8.86</td>\n",
              "      <td>6.6</td>\n",
              "      <td>7</td>\n",
              "      <td>1.78</td>\n",
              "      <td>2</td>\n",
              "      <td>0</td>\n",
              "    </tr>\n",
              "    <tr>\n",
              "      <th>4</th>\n",
              "      <td>75</td>\n",
              "      <td>415</td>\n",
              "      <td>1</td>\n",
              "      <td>0</td>\n",
              "      <td>0</td>\n",
              "      <td>166.7</td>\n",
              "      <td>113</td>\n",
              "      <td>28.34</td>\n",
              "      <td>148.3</td>\n",
              "      <td>122</td>\n",
              "      <td>12.61</td>\n",
              "      <td>186.9</td>\n",
              "      <td>121</td>\n",
              "      <td>8.41</td>\n",
              "      <td>10.1</td>\n",
              "      <td>3</td>\n",
              "      <td>2.73</td>\n",
              "      <td>3</td>\n",
              "      <td>0</td>\n",
              "    </tr>\n",
              "  </tbody>\n",
              "</table>\n",
              "</div>"
            ],
            "text/plain": [
              "   Account length  Area code  ... Number customer service calls Churner\n",
              "0             128        415  ...                             1       0\n",
              "1             107        415  ...                             1       0\n",
              "2             137        415  ...                             0       0\n",
              "3              84        408  ...                             2       0\n",
              "4              75        415  ...                             3       0\n",
              "\n",
              "[5 rows x 19 columns]"
            ]
          },
          "metadata": {
            "tags": []
          },
          "execution_count": 5
        }
      ]
    },
    {
      "cell_type": "code",
      "metadata": {
        "id": "Fgx_n54laVzR",
        "colab_type": "code",
        "colab": {}
      },
      "source": [
        "features = df.iloc[:,0:18]\n",
        "labels = df.iloc[:,18]\n",
        "features_stand = scale.fit_transform(features) # standardization of feature values (mean=0, variance=1)\n",
        "features = pd.DataFrame(features_stand , columns = features.columns)"
      ],
      "execution_count": 6,
      "outputs": []
    },
    {
      "cell_type": "code",
      "metadata": {
        "id": "DJD3pmT5aYkq",
        "colab_type": "code",
        "colab": {
          "base_uri": "https://localhost:8080/",
          "height": 50
        },
        "outputId": "59d9603e-9fb6-495c-bad1-42cb40e92433"
      },
      "source": [
        "print(features.shape)\n",
        "print(labels.shape)"
      ],
      "execution_count": 7,
      "outputs": [
        {
          "output_type": "stream",
          "text": [
            "(3333, 18)\n",
            "(3333,)\n"
          ],
          "name": "stdout"
        }
      ]
    },
    {
      "cell_type": "code",
      "metadata": {
        "id": "-XzDtIRnaaX5",
        "colab_type": "code",
        "colab": {
          "base_uri": "https://localhost:8080/",
          "height": 338
        },
        "outputId": "a5b9180d-d195-40f5-aea5-42b9e83b7395"
      },
      "source": [
        "#Imbalanced Data\n",
        "x = [\"True\" , \"False\"]\n",
        "count_true = len(labels[ labels == 1 ])\n",
        "count_false= len(labels[labels == 0  ])\n",
        "y = [count_true , count_false]\n",
        "fig = plt.figure()\n",
        "ax = fig.add_axes([0,0,1,1])\n",
        "ax.bar(x,y)\n",
        "plt.show()"
      ],
      "execution_count": 9,
      "outputs": [
        {
          "output_type": "display_data",
          "data": {
            "image/png": "[encoded data removed]",
            "text/plain": [
              "<Figure size 432x288 with 1 Axes>"
            ]
          },
          "metadata": {
            "tags": [],
            "needs_background": "light"
          }
        }
      ]
    },
    {
      "cell_type": "code",
      "metadata": {
        "id": "7Sk95sOJae7l",
        "colab_type": "code",
        "colab": {}
      },
      "source": [
        "df_train=pd.concat([features,labels],axis=1).ffill()"
      ],
      "execution_count": 10,
      "outputs": []
    },
    {
      "cell_type": "code",
      "metadata": {
        "id": "L1ECEPTPag3M",
        "colab_type": "code",
        "colab": {}
      },
      "source": [
        "minority_df = df_train[ df_train[\"Churner\"] == 1 ]\n",
        "majority_df = df_train[ df_train[\"Churner\"] == 0 ]\n"
      ],
      "execution_count": 11,
      "outputs": []
    },
    {
      "cell_type": "code",
      "metadata": {
        "id": "zom4uHhCajyA",
        "colab_type": "code",
        "colab": {
          "base_uri": "https://localhost:8080/",
          "height": 34
        },
        "outputId": "de15bb83-2135-49ce-f7d2-6173a5859193"
      },
      "source": [
        "minority_df.shape"
      ],
      "execution_count": 12,
      "outputs": [
        {
          "output_type": "execute_result",
          "data": {
            "text/plain": [
              "(483, 19)"
            ]
          },
          "metadata": {
            "tags": []
          },
          "execution_count": 12
        }
      ]
    },
    {
      "cell_type": "code",
      "metadata": {
        "id": "HrE60i1WalGv",
        "colab_type": "code",
        "colab": {}
      },
      "source": [
        "def ret_random_k_nearest_neighbour( cur , minority_df , k ) :\n",
        "    dict = {}\n",
        "    for i in  range(0,minority_df.shape[0])  :\n",
        "        dict[np.linalg.norm(cur-minority_df.iloc[i])] = minority_df.iloc[i].name \n",
        "    dict1 = sorted(dict.items()) \n",
        "    return dict1 "
      ],
      "execution_count": 13,
      "outputs": []
    },
    {
      "cell_type": "code",
      "metadata": {
        "id": "qriLuYmJanDB",
        "colab_type": "code",
        "colab": {}
      },
      "source": [
        "def solve(minority_df , want , k = 5  , sigma = 0.5 ):\n",
        "    so_far = 0 \n",
        "    dict = {}\n",
        "    samples = []\n",
        "    ss= StandardScaler()\n",
        "    for i in  range(0,minority_df.shape[0])  :\n",
        "            dict[minority_df.iloc[i].name] = ret_random_k_nearest_neighbour(minority_df.iloc[i] , minority_df , k )\n",
        "    samples = []\n",
        "    ss= StandardScaler()\n",
        "    X_ss= ss.fit_transform(minority_df)\n",
        "    while so_far != want :\n",
        "      for i , j  in dict.items():\n",
        "        value = randint( 0 , k - 1 ) # Normal distribution \n",
        "        entrydf = list(j)[value][1] \n",
        "        s0 = minority_df.loc[i] + (minority_df.loc[entrydf] - minority_df.loc[i]) * np.random.random_sample()\n",
        "        R = np.random.normal( s0 , sigma )\n",
        "        samples.append( R )\n",
        "        so_far = so_far + 1\n",
        "        if so_far == want :\n",
        "          break\n",
        "    return np.vstack( [ minority_df , ss.inverse_transform( np.vstack( samples ) ) ] )"
      ],
      "execution_count": 14,
      "outputs": []
    },
    {
      "cell_type": "code",
      "metadata": {
        "id": "NxGlEE1sap9R",
        "colab_type": "code",
        "colab": {
          "base_uri": "https://localhost:8080/",
          "height": 34
        },
        "outputId": "1a9615be-5811-4ee8-bee8-cdb98a8081b4"
      },
      "source": [
        "E = solve( minority_df.iloc[:,0:18] , count_false - count_true  )\n",
        "print( E.shape )"
      ],
      "execution_count": 15,
      "outputs": [
        {
          "output_type": "stream",
          "text": [
            "(2850, 18)\n"
          ],
          "name": "stdout"
        }
      ]
    },
    {
      "cell_type": "code",
      "metadata": {
        "id": "rQWdSNSoariI",
        "colab_type": "code",
        "colab": {}
      },
      "source": [
        "new_df = pd.DataFrame( E , columns = minority_df.columns[ : -1 ] )\n",
        "new_df[\"Churner\"] = 1"
      ],
      "execution_count": 16,
      "outputs": []
    },
    {
      "cell_type": "code",
      "metadata": {
        "id": "43Ax6jdRauR1",
        "colab_type": "code",
        "colab": {
          "base_uri": "https://localhost:8080/",
          "height": 50
        },
        "outputId": "22be0201-5124-4d37-8aa3-d5ca439a0c7a"
      },
      "source": [
        "print(new_df.shape)\n",
        "print(majority_df.shape)"
      ],
      "execution_count": 17,
      "outputs": [
        {
          "output_type": "stream",
          "text": [
            "(2850, 19)\n",
            "(2850, 19)\n"
          ],
          "name": "stdout"
        }
      ]
    },
    {
      "cell_type": "code",
      "metadata": {
        "id": "asJByeF0cIbo",
        "colab_type": "code",
        "colab": {
          "base_uri": "https://localhost:8080/",
          "height": 266
        },
        "outputId": "1151bde4-a6e0-4802-ed68-00234df352ca"
      },
      "source": [
        "new_df.head()"
      ],
      "execution_count": 18,
      "outputs": [
        {
          "output_type": "execute_result",
          "data": {
            "text/html": [
              "<div>\n",
              "<style scoped>\n",
              "    .dataframe tbody tr th:only-of-type {\n",
              "        vertical-align: middle;\n",
              "    }\n",
              "\n",
              "    .dataframe tbody tr th {\n",
              "        vertical-align: top;\n",
              "    }\n",
              "\n",
              "    .dataframe thead th {\n",
              "        text-align: right;\n",
              "    }\n",
              "</style>\n",
              "<table border=\"1\" class=\"dataframe\">\n",
              "  <thead>\n",
              "    <tr style=\"text-align: right;\">\n",
              "      <th></th>\n",
              "      <th>Account length</th>\n",
              "      <th>Area code</th>\n",
              "      <th>International plan</th>\n",
              "      <th>Voice mail plan</th>\n",
              "      <th>Number vmail messages</th>\n",
              "      <th>Total day minutes</th>\n",
              "      <th>Total day calls</th>\n",
              "      <th>Total day charge</th>\n",
              "      <th>Total eve minutes</th>\n",
              "      <th>Total eve calls</th>\n",
              "      <th>Total eve charge</th>\n",
              "      <th>Total night minutes</th>\n",
              "      <th>Total night calls</th>\n",
              "      <th>Total night charge</th>\n",
              "      <th>Total intl minutes</th>\n",
              "      <th>Total intl calls</th>\n",
              "      <th>Total intl charge</th>\n",
              "      <th>Number customer service calls</th>\n",
              "      <th>Churner</th>\n",
              "    </tr>\n",
              "  </thead>\n",
              "  <tbody>\n",
              "    <tr>\n",
              "      <th>0</th>\n",
              "      <td>-0.905784</td>\n",
              "      <td>-0.523603</td>\n",
              "      <td>-0.327580</td>\n",
              "      <td>-0.618396</td>\n",
              "      <td>-0.591760</td>\n",
              "      <td>-0.930515</td>\n",
              "      <td>1.822198</td>\n",
              "      <td>-0.930251</td>\n",
              "      <td>0.542727</td>\n",
              "      <td>-0.859168</td>\n",
              "      <td>0.542099</td>\n",
              "      <td>0.156784</td>\n",
              "      <td>0.556704</td>\n",
              "      <td>0.158501</td>\n",
              "      <td>0.882241</td>\n",
              "      <td>0.617898</td>\n",
              "      <td>0.882917</td>\n",
              "      <td>1.852927</td>\n",
              "      <td>1</td>\n",
              "    </tr>\n",
              "    <tr>\n",
              "      <th>1</th>\n",
              "      <td>1.505299</td>\n",
              "      <td>-0.523603</td>\n",
              "      <td>-0.327580</td>\n",
              "      <td>-0.618396</td>\n",
              "      <td>-0.591760</td>\n",
              "      <td>2.811735</td>\n",
              "      <td>-1.666277</td>\n",
              "      <td>2.811359</td>\n",
              "      <td>2.303852</td>\n",
              "      <td>-0.156344</td>\n",
              "      <td>2.303112</td>\n",
              "      <td>-0.796421</td>\n",
              "      <td>1.425573</td>\n",
              "      <td>-0.795122</td>\n",
              "      <td>-1.732915</td>\n",
              "      <td>1.836992</td>\n",
              "      <td>-1.730996</td>\n",
              "      <td>1.852927</td>\n",
              "      <td>1</td>\n",
              "    </tr>\n",
              "    <tr>\n",
              "      <th>2</th>\n",
              "      <td>-0.604398</td>\n",
              "      <td>-0.688834</td>\n",
              "      <td>-0.327580</td>\n",
              "      <td>-0.618396</td>\n",
              "      <td>-0.591760</td>\n",
              "      <td>-2.155284</td>\n",
              "      <td>-0.569899</td>\n",
              "      <td>-2.155132</td>\n",
              "      <td>-0.612949</td>\n",
              "      <td>1.048497</td>\n",
              "      <td>-0.613347</td>\n",
              "      <td>0.172604</td>\n",
              "      <td>-1.845462</td>\n",
              "      <td>0.171685</td>\n",
              "      <td>-1.625442</td>\n",
              "      <td>0.617898</td>\n",
              "      <td>-1.624847</td>\n",
              "      <td>2.613214</td>\n",
              "      <td>1</td>\n",
              "    </tr>\n",
              "    <tr>\n",
              "      <th>3</th>\n",
              "      <td>-2.236903</td>\n",
              "      <td>-0.688834</td>\n",
              "      <td>-0.327580</td>\n",
              "      <td>-0.618396</td>\n",
              "      <td>-0.591760</td>\n",
              "      <td>1.282150</td>\n",
              "      <td>0.875326</td>\n",
              "      <td>1.281879</td>\n",
              "      <td>1.014070</td>\n",
              "      <td>0.948094</td>\n",
              "      <td>1.013095</td>\n",
              "      <td>1.568792</td>\n",
              "      <td>-0.516604</td>\n",
              "      <td>1.569161</td>\n",
              "      <td>0.559825</td>\n",
              "      <td>-0.601195</td>\n",
              "      <td>0.564470</td>\n",
              "      <td>-0.427932</td>\n",
              "      <td>1</td>\n",
              "    </tr>\n",
              "    <tr>\n",
              "      <th>4</th>\n",
              "      <td>0.852298</td>\n",
              "      <td>-0.688834</td>\n",
              "      <td>3.052685</td>\n",
              "      <td>1.617086</td>\n",
              "      <td>2.403934</td>\n",
              "      <td>-0.122571</td>\n",
              "      <td>-0.769241</td>\n",
              "      <td>-0.122305</td>\n",
              "      <td>0.057580</td>\n",
              "      <td>0.345673</td>\n",
              "      <td>0.057183</td>\n",
              "      <td>-1.555821</td>\n",
              "      <td>-1.129923</td>\n",
              "      <td>-1.555384</td>\n",
              "      <td>1.562898</td>\n",
              "      <td>4.275179</td>\n",
              "      <td>1.559615</td>\n",
              "      <td>-1.188218</td>\n",
              "      <td>1</td>\n",
              "    </tr>\n",
              "  </tbody>\n",
              "</table>\n",
              "</div>"
            ],
            "text/plain": [
              "   Account length  Area code  ...  Number customer service calls  Churner\n",
              "0       -0.905784  -0.523603  ...                       1.852927        1\n",
              "1        1.505299  -0.523603  ...                       1.852927        1\n",
              "2       -0.604398  -0.688834  ...                       2.613214        1\n",
              "3       -2.236903  -0.688834  ...                      -0.427932        1\n",
              "4        0.852298  -0.688834  ...                      -1.188218        1\n",
              "\n",
              "[5 rows x 19 columns]"
            ]
          },
          "metadata": {
            "tags": []
          },
          "execution_count": 18
        }
      ]
    },
    {
      "cell_type": "code",
      "metadata": {
        "id": "a2Zyt1QH0GVw",
        "colab_type": "code",
        "colab": {
          "base_uri": "https://localhost:8080/",
          "height": 268
        },
        "outputId": "04c5965f-b687-41d2-a0d7-d0c106ba005a"
      },
      "source": [
        "pca = PCA(n_components=2)\n",
        "scale  = StandardScaler()\n",
        "majority_df_ = scale.fit_transform(majority_df.iloc[:,0:18]) # standardization of feature values (mean=0, variance=1)\n",
        "majority_df__ = pca.fit_transform(majority_df_) # fitting the model and reduction of the dimensionality\n",
        "fig, ax = plt.subplots()\n",
        "PCAplot = ax.scatter(majority_df__[:,0], majority_df__[:,1], c = majority_df.iloc[:,-1])\n",
        "#PCAplot = ax.scatter(minority_df__[:,0], minority_df__[:,1], c = minority_df.iloc[:,-1] )"
      ],
      "execution_count": 19,
      "outputs": [
        {
          "output_type": "display_data",
          "data": {
            "image/png": "[encoded data removed]",
            "text/plain": [
              "<Figure size 432x288 with 1 Axes>"
            ]
          },
          "metadata": {
            "tags": [],
            "needs_background": "light"
          }
        }
      ]
    },
    {
      "cell_type": "code",
      "metadata": {
        "id": "dHyTSWKP06Xg",
        "colab_type": "code",
        "colab": {
          "base_uri": "https://localhost:8080/",
          "height": 268
        },
        "outputId": "fa8f007f-dda1-4ba2-b4bc-3c1f0dfd606b"
      },
      "source": [
        "minority_df_ = scale.fit_transform(new_df.iloc[:,0:18])\n",
        "minority_df__ = pca.fit_transform(minority_df_)\n",
        "fig, ax = plt.subplots()\n",
        "PCAplot = ax.scatter(minority_df__[:,0], minority_df__[:,1], c = new_df.iloc[:,-1])\n"
      ],
      "execution_count": 20,
      "outputs": [
        {
          "output_type": "display_data",
          "data": {
            "image/png": "[encoded data removed]",
            "text/plain": [
              "<Figure size 432x288 with 1 Axes>"
            ]
          },
          "metadata": {
            "tags": [],
            "needs_background": "light"
          }
        }
      ]
    },
    {
      "cell_type": "code",
      "metadata": {
        "id": "gIuBLWZs1p-y",
        "colab_type": "code",
        "colab": {
          "base_uri": "https://localhost:8080/",
          "height": 338
        },
        "outputId": "50df2c03-0bfa-46de-b2c2-f433b3b92364"
      },
      "source": [
        "#Balanced Data\n",
        "all_df = pd.concat( [new_df , majority_df] )\n",
        "all_df.head()\n",
        "x = [\"True\" , \"False\"]\n",
        "count_true = len(all_df[ all_df[\"Churner\"] == 1 ])\n",
        "count_false= len(all_df[ all_df[\"Churner\"] == 0  ])\n",
        "y = [count_true , count_false]\n",
        "fig = plt.figure()\n",
        "ax = fig.add_axes([0,0,1,1])\n",
        "ax.bar(x,y)\n",
        "plt.show()"
      ],
      "execution_count": 21,
      "outputs": [
        {
          "output_type": "display_data",
          "data": {
            "image/png": "[encoded data removed]",
            "text/plain": [
              "<Figure size 432x288 with 1 Axes>"
            ]
          },
          "metadata": {
            "tags": [],
            "needs_background": "light"
          }
        }
      ]
    },
    {
      "cell_type": "code",
      "metadata": {
        "id": "SEjPQTkU60P2",
        "colab_type": "code",
        "colab": {}
      },
      "source": [
        "shuffled_df = all_df.sample(frac=1)"
      ],
      "execution_count": 22,
      "outputs": []
    },
    {
      "cell_type": "code",
      "metadata": {
        "id": "PQhft3bwJ18a",
        "colab_type": "code",
        "colab": {}
      },
      "source": [
        "X_train, X_test, y_train, y_test = train_test_split(shuffled_df.iloc[:,0:18] , shuffled_df.iloc[:,-1] , test_size=.40, random_state=0)"
      ],
      "execution_count": 23,
      "outputs": []
    },
    {
      "cell_type": "code",
      "metadata": {
        "id": "b4zMJXBhJ5Bk",
        "colab_type": "code",
        "colab": {}
      },
      "source": [
        "# Calculation of metrics\n",
        "def metricsCalculation(y_test, y_pred):\n",
        "    acc = accuracy_score(y_test, y_pred)\n",
        "    precision = precision_score(y_test, y_pred)\n",
        "    recall = recall_score(y_test, y_pred)\n",
        "    f =  f1_score(y_test, y_pred)\n",
        "    tn, fp, fn, tp = confusion_matrix(y_test, y_pred).ravel()\n",
        "    g_mean = np.sqrt((tp/(tp+fn)*(tn/(tn+fp))))\n",
        "    fpr, tpr, _ = roc_curve(y_test, y_pred)\n",
        "    roc_auc = auc(fpr, tpr)\n",
        "    # Metrics aggregation into dataframe\n",
        "    res = pd.DataFrame()\n",
        "    res['OA'] = [acc]\n",
        "    res['Precision'] = [precision]\n",
        "    res['Recall'] = [recall]\n",
        "    res['F measure'] = [f]\n",
        "    res['G mean'] = [g_mean]\n",
        "    res['AUC'] = [roc_auc]\n",
        "    print(confusion_matrix(y_test,y_pred))\n",
        "\n",
        "    print (res)"
      ],
      "execution_count": 24,
      "outputs": []
    },
    {
      "cell_type": "code",
      "metadata": {
        "id": "Joa37TvOJ47L",
        "colab_type": "code",
        "colab": {
          "base_uri": "https://localhost:8080/",
          "height": 269
        },
        "outputId": "ab248945-2280-4fcb-f2e3-7615b817b9ea"
      },
      "source": [
        "from time import *\n",
        "print(\"# Train Decision trees  #\")\n",
        "\n",
        "\n",
        "tree_clf = DecisionTreeClassifier(max_depth=10, max_features=5, min_samples_leaf=3)\n",
        "t0 = time()\n",
        "tree_clf.fit(X_train, y_train)\n",
        "t = time() - t0\n",
        "y_pred = tree_clf.predict(X_test)\n",
        "\n",
        "metricsCalculation(y_test, y_pred)\n",
        "\n",
        "t=str(t)\n",
        "print(\"Execution Time for GBM with default parameters is : \"+t+\" seconds\")\n",
        "import os\n",
        "import psutil\n",
        "\n",
        "\n",
        "#process = psutil.Process(os.getpid())\n",
        "#print(\"Memory Usage for DT is \")\n",
        "#print(process.memory_info().rss)  # in bytes \n",
        "#print(process.memory_percent())   # in percentage\n",
        "#print(\"Execution Time for DT is : \")\n",
        "#print(t)\n",
        "\n",
        "#to print confusion matrix componenets \n",
        "cm = confusion_matrix(y_test, y_pred)\n",
        "print('True positive = ', cm[0][0])\n",
        "print('False positive = ', cm[0][1])\n",
        "print('False negative = ', cm[1][0])\n",
        "print('True negative = ', cm[1][1])\n",
        "\n",
        "# to do some calucations such as acccuracy \n",
        "confusion = confusion_matrix(y_test, y_pred)\n",
        "# True Positives\n",
        "TP = confusion[1, 1]\n",
        "# True Negatives\n",
        "TN = confusion[0, 0]\n",
        "# False Positives\n",
        "FP = confusion[0, 1]\n",
        "# False Negatives\n",
        "FN = confusion[1, 0]\n",
        "# to check the value of the accuracy\n",
        "print((TP + TN) / float(TP + TN + FP + FN))\n",
        "\n",
        "Error_rate= (FP+FN)/(TP + TN + FN + FP)\n",
        "print ('Error rate is = ', Error_rate)\n",
        "\n",
        "correct_rate=1-Error_rate\n",
        "print ('correct rate is = ', correct_rate)\n",
        "\n",
        "#Type I Accuracy \n",
        "print (TP /(TP + FN))\n",
        "\n",
        "#Type I I Accuracy\n",
        "print (TN /(TN + FP))"
      ],
      "execution_count": 25,
      "outputs": [
        {
          "output_type": "stream",
          "text": [
            "# Train Decision trees  #\n",
            "[[1102   43]\n",
            " [  56 1079]]\n",
            "         OA  Precision    Recall  F measure    G mean       AUC\n",
            "0  0.956579   0.961676  0.950661   0.956136  0.956535  0.956553\n",
            "Execution Time for GBM with default parameters is : 0.017078638076782227 seconds\n",
            "True positive =  1102\n",
            "False positive =  43\n",
            "False negative =  56\n",
            "True negative =  1079\n",
            "0.9565789473684211\n",
            "Error rate is =  0.04342105263157895\n",
            "correct rate is =  0.9565789473684211\n",
            "0.9506607929515418\n",
            "0.9624454148471616\n"
          ],
          "name": "stdout"
        }
      ]
    },
    {
      "cell_type": "code",
      "metadata": {
        "id": "qzFiTZA3J40h",
        "colab_type": "code",
        "colab": {
          "base_uri": "https://localhost:8080/",
          "height": 269
        },
        "outputId": "74589778-56ac-48e2-93a4-370d9f9b920e"
      },
      "source": [
        "from time import *\n",
        "print(\"# Train Decision trees  #\")\n",
        "from sklearn.ensemble import BaggingClassifier\n",
        "from sklearn.neighbors import KNeighborsClassifier\n",
        "bagging = BaggingClassifier()\n",
        "t0 = time()\n",
        "bagging.fit(X_train, y_train)\n",
        "t = time() - t0\n",
        "y_pred = bagging.predict(X_test)\n",
        "metricsCalculation(y_test, y_pred)\n",
        "t=str(t)\n",
        "print(\"Execution Time for Bagging with default parameters is : \"+t+\" seconds\")\n",
        "import os\n",
        "import psutil\n",
        "#process = psutil.Process(os.getpid())\n",
        "#print(\"Memory Usage for DT is \")\n",
        "#print(process.memory_info().rss)  # in bytes \n",
        "#print(process.memory_percent())   # in percentage\n",
        "#print(\"Execution Time for DT is : \")\n",
        "#print(t)\n",
        "\n",
        "#to print confusion matrix componenets \n",
        "cm = confusion_matrix(y_test, y_pred)\n",
        "print('True positive = ', cm[0][0])\n",
        "print('False positive = ', cm[0][1])\n",
        "print('False negative = ', cm[1][0])\n",
        "print('True negative = ', cm[1][1])\n",
        "\n",
        "# to do some calucations such as acccuracy \n",
        "confusion = confusion_matrix(y_test, y_pred)\n",
        "# True Positives\n",
        "TP = confusion[1, 1]\n",
        "# True Negatives\n",
        "TN = confusion[0, 0]\n",
        "# False Positives\n",
        "FP = confusion[0, 1]\n",
        "# False Negatives\n",
        "FN = confusion[1, 0]\n",
        "# to check the value of the accuracy\n",
        "print((TP + TN) / float(TP + TN + FP + FN))\n",
        "\n",
        "Error_rate= (FP+FN)/(TP + TN + FN + FP)\n",
        "print ('Error rate is = ', Error_rate)\n",
        "\n",
        "correct_rate=1-Error_rate\n",
        "print ('correct rate is = ', correct_rate)\n",
        "\n",
        "#Type I Accuracy \n",
        "print (TP /(TP + FN))\n",
        "\n",
        "#Type I I Accuracy\n",
        "print (TN /(TN + FP))"
      ],
      "execution_count": 26,
      "outputs": [
        {
          "output_type": "stream",
          "text": [
            "# Train Decision trees  #\n",
            "[[1124   21]\n",
            " [  48 1087]]\n",
            "         OA  Precision    Recall  F measure   G mean       AUC\n",
            "0  0.969737   0.981047  0.957709   0.969238  0.96961  0.969684\n",
            "Execution Time for Bagging with default parameters is : 0.20610356330871582 seconds\n",
            "True positive =  1124\n",
            "False positive =  21\n",
            "False negative =  48\n",
            "True negative =  1087\n",
            "0.9697368421052631\n",
            "Error rate is =  0.030263157894736843\n",
            "correct rate is =  0.9697368421052631\n",
            "0.9577092511013215\n",
            "0.9816593886462882\n"
          ],
          "name": "stdout"
        }
      ]
    },
    {
      "cell_type": "code",
      "metadata": {
        "id": "SZ3klnK6J4tg",
        "colab_type": "code",
        "colab": {
          "base_uri": "https://localhost:8080/",
          "height": 269
        },
        "outputId": "36893039-305d-454b-ba4e-57377e76fd2f"
      },
      "source": [
        "print(\"# Train SVM  #\")\n",
        "from time import *\n",
        "svclassifier = SVC(kernel='rbf',C=1000,gamma= 0.01) \n",
        "t0 = time()\n",
        "svclassifier.fit(X_train, y_train)\n",
        "t = time() - t0\n",
        "y_pred = svclassifier.predict(X_test)\n",
        "metricsCalculation(y_test, y_pred)\n",
        "t=str(t)\n",
        "print(\"Execution Time for Bagging with default parameters is : \"+t+\" seconds\")\n",
        "import os\n",
        "import psutil\n",
        "#process = psutil.Process(os.getpid())\n",
        "#print(\"Memory Usage for DT is \")\n",
        "#print(process.memory_info().rss)  # in bytes \n",
        "#print(process.memory_percent())   # in percentage\n",
        "#print(\"Execution Time for DT is : \")\n",
        "#print(t)\n",
        "#to print confusion matrix componenets \n",
        "cm = confusion_matrix(y_test, y_pred)\n",
        "print('True positive = ', cm[0][0])\n",
        "print('False positive = ', cm[0][1])\n",
        "print('False negative = ', cm[1][0])\n",
        "print('True negative = ', cm[1][1])\n",
        "# to do some calucations such as acccuracy \n",
        "confusion = confusion_matrix(y_test, y_pred)\n",
        "# True Positives\n",
        "TP = confusion[1, 1]\n",
        "# True Negatives\n",
        "TN = confusion[0, 0]\n",
        "# False Positives\n",
        "FP = confusion[0, 1]\n",
        "# False Negatives\n",
        "FN = confusion[1, 0]\n",
        "# to check the value of the accuracy\n",
        "print((TP + TN) / float(TP + TN + FP + FN))\n",
        "Error_rate= (FP+FN)/(TP + TN + FN + FP)\n",
        "print ('Error rate is = ', Error_rate)\n",
        "correct_rate=1-Error_rate\n",
        "print ('correct rate is = ', correct_rate)\n",
        "#Type I Accuracy \n",
        "print (TP /(TP + FN))\n",
        "#Type I I Accuracy\n",
        "print (TN /(TN + FP))"
      ],
      "execution_count": 33,
      "outputs": [
        {
          "output_type": "stream",
          "text": [
            "# Train SVM  #\n",
            "[[1091   54]\n",
            " [  97 1038]]\n",
            "         OA  Precision    Recall  F measure    G mean       AUC\n",
            "0  0.933772   0.950549  0.914537   0.932196  0.933492  0.933688\n",
            "Execution Time for Bagging with default parameters is : 1.291262149810791 seconds\n",
            "True positive =  1091\n",
            "False positive =  54\n",
            "False negative =  97\n",
            "True negative =  1038\n",
            "0.9337719298245614\n",
            "Error rate is =  0.0662280701754386\n",
            "correct rate is =  0.9337719298245614\n",
            "0.9145374449339208\n",
            "0.9528384279475982\n"
          ],
          "name": "stdout"
        }
      ]
    },
    {
      "cell_type": "code",
      "metadata": {
        "id": "9QCPfi40LW-X",
        "colab_type": "code",
        "colab": {}
      },
      "source": [
        ""
      ],
      "execution_count": null,
      "outputs": []
    }
  ]
}